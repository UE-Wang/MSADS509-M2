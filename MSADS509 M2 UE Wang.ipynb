{
 "cells": [
  {
   "cell_type": "markdown",
   "id": "610a8639",
   "metadata": {},
   "source": [
    "# USADS509 M2 UE Wang"
   ]
  },
  {
   "cell_type": "markdown",
   "id": "7f79baf9",
   "metadata": {},
   "source": [
    "# ADS 509 Assignment 2.1: Tokenization, Normalization, Descriptive Statistics \n",
    "\n",
    "This notebook holds Assignment 2.1 for Module 2 in ADS 509, Applied Text Mining. Work through this notebook, writing code and answering questions where required. \n",
    "\n",
    "In the previous assignment you put together Twitter data and lyrics data on two artists. In this assignment we explore some of the textual features of those data sets. If, for some reason, you did not complete that previous assignment, data to use for this assignment can be found in the assignment materials section of Blackboard. \n",
    "\n",
    "This assignment asks you to write a short function to calculate some descriptive statistics on a piece of text. Then you are asked to find some interesting and unique statistics on your corpora. \n"
   ]
  },
  {
   "cell_type": "markdown",
   "id": "aae8e2e1",
   "metadata": {},
   "source": [
    "## General Assignment Instructions\n",
    "\n",
    "These instructions are included in every assignment, to remind you of the coding standards for the class. Feel free to delete this cell after reading it. \n",
    "\n",
    "One sign of mature code is conforming to a style guide. We recommend the [Google Python Style Guide](https://google.github.io/styleguide/pyguide.html). If you use a different style guide, please include a cell with a link. \n",
    "\n",
    "Your code should be relatively easy-to-read, sensibly commented, and clean. Writing code is a messy process, so please be sure to edit your final submission. Remove any cells that are not needed or parts of cells that contain unnecessary code. Remove inessential `import` statements and make sure that all such statements are moved into the designated cell. \n",
    "\n",
    "Make use of non-code cells for written commentary. These cells should be grammatical and clearly written. In some of these cells you will have questions to answer. The questions will be marked by a \"Q:\" and will have a corresponding \"A:\" spot for you. *Make sure to answer every question marked with a `Q:` for full credit.* \n"
   ]
  },
  {
   "cell_type": "code",
   "execution_count": 1,
   "id": "e2d096b7",
   "metadata": {},
   "outputs": [],
   "source": [
    "import os\n",
    "import re\n",
    "import emoji\n",
    "import pandas as pd\n",
    "import numpy as np\n",
    "\n",
    "from collections import Counter, defaultdict\n",
    "\n",
    "import nltk\n",
    "#nltk.download('stopwords')\n",
    "from nltk.corpus import stopwords\n",
    "\n",
    "from string import punctuation\n",
    "\n",
    "sw = stopwords.words(\"english\")"
   ]
  },
  {
   "cell_type": "code",
   "execution_count": 2,
   "id": "6b555ab2",
   "metadata": {},
   "outputs": [],
   "source": [
    "# Add any additional import statements you need here\n",
    "\n",
    "import glob\n",
    "import regex as re\n",
    "#import fasttext\n",
    "import sqlite3\n",
    "import html\n",
    "import textacy\n",
    "import textacy.preprocessing as tprep\n",
    "import nltk\n",
    "import spacy\n",
    "from spacy.tokenizer import Tokenizer\n",
    "from spacy.util import compile_prefix_regex, \\\n",
    "                       compile_infix_regex, compile_suffix_regex\n"
   ]
  },
  {
   "cell_type": "code",
   "execution_count": 3,
   "id": "923b5a86",
   "metadata": {},
   "outputs": [],
   "source": [
    "# change `data_location` to the location of the folder on your machine.\n",
    "\n",
    "data_location = \"/Users/UE/Desktop/M1 Results\"\n",
    "# These subfolders should still work if you correctly stored the \n",
    "# data from the Module 1 assignment\n",
    "twitter_folder = \"twitter/\"\n",
    "lyrics_folder = \"lyrics/\""
   ]
  },
  {
   "cell_type": "code",
   "execution_count": 4,
   "id": "06522af9",
   "metadata": {},
   "outputs": [],
   "source": [
    "def descriptive_stats(tokens, num_tokens = 5, verbose=True) :\n",
    "    \"\"\"\n",
    "        Given a list of tokens, print number of tokens, number of unique tokens, \n",
    "        number of characters, lexical diversity (https://en.wikipedia.org/wiki/Lexical_diversity), \n",
    "        and num_tokens most common tokens. Return a list with the number of tokens, number\n",
    "        of unique tokens, lexical diversity, and number of characters. \n",
    "    \n",
    "    \"\"\"\n",
    "\n",
    "    # Fill in the correct values here. \n",
    "    \n",
    "    num_tokens = len(tokens)\n",
    "    num_unique_tokens = len(set(tokens))  \n",
    "    lexical_diversity = num_unique_tokens / num_tokens\n",
    "    num_characters = sum(len(s) for s in tokens)\n",
    "    \n",
    "    if verbose :        \n",
    "        print(f\"There are {num_tokens} tokens in the data.\")\n",
    "        print(f\"There are {num_unique_tokens} unique tokens in the data.\")\n",
    "        print(f\"There are {num_characters} characters in the data.\")\n",
    "        print(f\"The lexical diversity is {lexical_diversity:.3f} in the data.\")        \n",
    "        print (f\"The five most common words are:\")\n",
    "        print(Counter(tokens).most_common(5))\n",
    "        \n",
    "    return([num_tokens, num_unique_tokens,\n",
    "            lexical_diversity,\n",
    "            num_characters])\n",
    "    "
   ]
  },
  {
   "cell_type": "code",
   "execution_count": 5,
   "id": "59dcf058",
   "metadata": {},
   "outputs": [
    {
     "name": "stdout",
     "output_type": "stream",
     "text": [
      "There are 13 tokens in the data.\n",
      "There are 9 unique tokens in the data.\n",
      "There are 55 characters in the data.\n",
      "The lexical diversity is 0.692 in the data.\n",
      "The five most common words are:\n",
      "[('text', 3), ('here', 2), ('example', 2), ('is', 1), ('some', 1)]\n"
     ]
    }
   ],
   "source": [
    "text = \"\"\"here is some example text with other example text here in this text\"\"\".split()\n",
    "assert(descriptive_stats(text, verbose=True)[0] == 13)\n",
    "assert(descriptive_stats(text, verbose=False)[1] == 9)\n",
    "assert(abs(descriptive_stats(text, verbose=False)[2] - 0.69) < 0.02)\n",
    "assert(descriptive_stats(text, verbose=False)[3] == 55)\n"
   ]
  },
  {
   "cell_type": "markdown",
   "id": "d2e7e1a2",
   "metadata": {},
   "source": [
    "Q: Why is it beneficial to use assertion statements in your code? \n",
    "\n",
    "A: <!-- Your answer here --> \n",
    "\n",
    "Using assertion statements can help ensure that the code is running as expected. They allow users to spot issues before actually running the dataset, acting as a form of pre-execution checks."
   ]
  },
  {
   "cell_type": "markdown",
   "id": "9d3bf93e",
   "metadata": {},
   "source": [
    "## Data Input\n",
    "\n",
    "Now read in each of the corpora. For the lyrics data, it may be convenient to store the entire contents of the file to make it easier to inspect the titles individually, as you'll do in the last part of the assignment. In the solution, I stored the lyrics data in a dictionary with two dimensions of keys: artist and song. The value was the file contents. A data frame would work equally well. \n",
    "\n",
    "For the Twitter data, we only need the description field for this assignment. Feel free all the descriptions read it into a data structure. In the solution, I stored the descriptions as a dictionary of lists, with the key being the artist. \n",
    "\n",
    "\n"
   ]
  },
  {
   "cell_type": "code",
   "execution_count": 6,
   "id": "3ae6c341",
   "metadata": {},
   "outputs": [
    {
     "name": "stdout",
     "output_type": "stream",
     "text": [
      "Sample for robynkonichiwa: ['\"Include Me Out\"\\n\\n\\n\\nIt is really very simple\\nJust a single pulse, repeated at a regular interval\\n\\nMmm, hmm\\nDon\\'t include me out, no\\nDon\\'t include me out\\n\\nOne time for the records and the hits\\nTwo for your money-maker, shake, boom\\nThree times for the lucky and the dead\\n\\nOne time for the sorry and safe\\nTwo for the beggar and his company\\nThree times for the sinner and the saint\\n\\nYeah, bow down all you wicked and the vain\\nBow to the miracle, the em, na, na\\nThree times and the devil will be gone\\n\\nOne time for the fire, bring it on\\nTwo for the boogie, gotta bang the beat\\nThree times for the ladies, show me some love\\n\\nTalking \\'bout everyone, every day, all day\\n\\nAnd if your world should fall apart\\nThere\\'s plenty room inside my heart\\nJust don\\'t include me out\\nDon\\'t include me out\\n\\nAnd if your world should fall apart\\nI still got room inside my heart\\nJust don\\'t include me out\\nDon\\'t include me out, d-d-don\\'t include me out\\n\\nAll hail to the mamas who hold it down\\nHail to the pillar of the family\\nThis one\\'s for the granny, take a bow\\n\\nOne time for the crazy and the bent\\nCome on, all you trannies click your heels for me\\nAll praise the fugeses and the gems\\n\\nTalking \\'bout everyone, every day, all day, oh yeah\\n\\nAnd if your world should fall apart\\nThere\\'s plenty room inside my heart\\nJust don\\'t include me out\\nJust don\\'t include me out\\n\\nAnd if your world should fall apart\\nI still got room inside my heart\\nJust don\\'t include me out\\nDon\\'t include me out, d-d-don\\'t include me out\\n\\nCan I get a beat, beat for all of my watchamacallits\\nDoing whatever and with whoever they like?\\nCan I get a beat, beat for all of my watchamacallits\\nDoing whatever and with whoever they like?\\n\\nCan I get a bam, bam for all of my watchamacallits\\nDoing whatever and with whoever they like?\\nCan I get a bam, bam for all of my watchamacallits\\nDoing whatever and with whoever they like?\\n\\nI\\'m talking about everyone, every day, all day, hey\\n\\nAnd if your world should fall apart\\nThere\\'s plenty room inside my heart\\nJust don\\'t include me out\\nDon\\'t include me out\\n\\nAnd if your world should fall apart\\nI still got room inside my heart\\nJust don\\'t include me out\\nDon\\'t include me out\\n\\nAnd if your world should fall apart\\nThere\\'s plenty room inside my heart\\nJust don\\'t include me out, hey, hey\\n\\nAnd if your world should fall apart\\nI still got room inside my heart, yeah\\nJust don\\'t include me out, hey\\n']\n",
      "--------------------------------------------\n",
      "Sample for cher: ['\"Come And Stay With Me\"\\n\\n\\n\\nI\\'ll send away all my false pride\\nAnd I\\'ll forsake all of my life\\nYes I\\'ll be as true as true can be\\nIf you\\'ll come and stay with me\\n\\nAll lovers of the past, I\\'ll leave behind\\nThey\\'ll never be another on my mind\\nI\\'ll do all I can so you\\'ll feel free\\nIf you\\'ll come and stay with me\\n\\nThe promise I made most faithfully\\nI\\'ll keep still if you decide to leave\\nI\\'ll try and see that you have all you need\\nIf you\\'ll come and stay with me\\n\\nYes I\\'ll be as true as true can be\\nIf you\\'ll come and stay with me\\n\\nLive a life no others have ever known\\nBut I know you think that I\\'m hardly grown\\nOh thank God at last and finally\\nI can see you\\'re gonna stay with me\\nI can see you\\'re gonna stay with me\\n']\n"
     ]
    }
   ],
   "source": [
    "# Read in the lyrics data\n",
    "\n",
    "lyrics_data = {}\n",
    "\n",
    "lyrics_path = os.path.join(data_location, lyrics_folder)\n",
    "\n",
    "for artist_folder in os.listdir(lyrics_path):\n",
    "    artist_folder_path = os.path.join(lyrics_path, artist_folder)\n",
    "\n",
    "    if os.path.isdir(artist_folder_path):\n",
    "        # Use glob to find all text files in the artist folder\n",
    "        file_paths = glob.glob(os.path.join(artist_folder_path, '*.txt'))\n",
    "\n",
    "        # Read the contents of each text file and store in artist_lyrics\n",
    "        artist_lyrics = [open(file_path, 'r').read() for file_path in file_paths]\n",
    "\n",
    "        lyrics_data[artist_folder] = artist_lyrics\n",
    "        \n",
    "print(\"Sample for robynkonichiwa:\", lyrics_data['robyn'][:1])\n",
    "print(\"--------------------------------------------\")\n",
    "print(\"Sample for cher:\", lyrics_data['cher'][:1])"
   ]
  },
  {
   "cell_type": "code",
   "execution_count": 7,
   "id": "30b18bbe",
   "metadata": {},
   "outputs": [
    {
     "name": "stdout",
     "output_type": "stream",
     "text": [
      "Sample for robynkonichiwa: ['\"I love chill\" •Facebook / Instagram / SoundCloud: AngelxoArts• https://t.co/447okKLKzA…', \"books, movies, music, nature & TV shows. OG Sweetee since '12 thanks to YouTube recommending 'This Feeling' on my homepage ♥️\", '(Am)auteur en herbe 🌱 - juriste en paille 🤡 - Ami des fleurs 🌸🌈 (sans la main verte) - music & books - #morecomingsoon... (si on en voit le bout)', 'This Twitter profile is full of sarcasm and rants with the occasional moan, dont like me dont follow me! KLF Stan Account Aspiring Youth Council rep', 'Flora Youssef - Blogger & Founder Posting review articles about the latest music 🎵 https://t.co/dx4hoIom7T https://t.co/KsplT6mZzs']\n",
      "-------------------------------------------\n",
      "Sample for cher: ['𝙿𝚛𝚘𝚞𝚍 𝚜𝚞𝚙𝚙𝚘𝚛𝚝𝚎𝚛 𝚘𝚏 𝚖𝚎𝚜𝚜𝚢 𝚋𝚞𝚗𝚜 & 𝚕𝚎𝚐𝚐𝚒𝚗𝚐𝚜', '163㎝／愛かっぷ💜26歳🍒 工〇好きな女の子💓 フォローしてくれたらDMします🧡', 'csu', 'Writer @Washinformer @SpelmanCollege alumna #DCnative Award-winning journalist & PR pro @IABC Fellow & Past Chair IG: bcscomm Email: wibsiler@gmail.com', 'I’m unemployed and live with my parents. MOOPS!']\n"
     ]
    }
   ],
   "source": [
    "import os\n",
    "\n",
    "twitter_files = os.path.join(data_location, twitter_folder)\n",
    "desc_files = [f for f in os.listdir(twitter_files) if \"followers_data\" in f]\n",
    "\n",
    "twitter_data = {}\n",
    "\n",
    "for f in desc_files:\n",
    "    artist = f.split(\"_\")[0]\n",
    "    \n",
    "    if artist == 'robynkonichiwa' or artist == 'cher':\n",
    "        if artist not in twitter_data:\n",
    "            twitter_data[artist] = []  # Initialize the list for the artist if it doesn't exist\n",
    "        \n",
    "        with open(os.path.join(data_location, twitter_folder, f), 'r', encoding='utf8') as infile:\n",
    "            next(infile)\n",
    "            for idx, line in enumerate(infile.readlines()):\n",
    "                line = line.strip().split(\"\\t\") \n",
    "                if len(line) == 7:  \n",
    "                    twitter_data[artist].append(line[6])\n",
    "                    \n",
    "print(\"Sample for robynkonichiwa:\", twitter_data['robynkonichiwa'][:5])\n",
    "print(\"-------------------------------------------\")\n",
    "print(\"Sample for cher:\", twitter_data['cher'][:5])"
   ]
  },
  {
   "cell_type": "markdown",
   "id": "6a5f3b12",
   "metadata": {},
   "source": [
    "## Data Cleaning\n",
    "\n",
    "Now clean and tokenize your data. Remove punctuation chacters (available in the `punctuation` object in the `string` library), split on whitespace, fold to lowercase, and remove stopwords. Store your cleaned data, which must be accessible as an interable for `descriptive_stats`, in new objects or in new columns in your data frame. \n",
    "\n"
   ]
  },
  {
   "cell_type": "code",
   "execution_count": 8,
   "id": "71c73d86",
   "metadata": {},
   "outputs": [],
   "source": [
    "punctuation = set(punctuation) # speeds up comparison\n",
    "stopwords = set(nltk.corpus.stopwords.words('english'))"
   ]
  },
  {
   "cell_type": "code",
   "execution_count": 9,
   "id": "e3ecd2aa",
   "metadata": {},
   "outputs": [],
   "source": [
    "# create your clean twitter data here\n",
    "clean_twitter = {}\n",
    "\n",
    "for artist_name, twitter_descriptions in twitter_data.items():\n",
    "    clean_twitter_descriptions = []\n",
    "\n",
    "    for twitter_description in twitter_descriptions:\n",
    "        # Remove punctuation\n",
    "        twitter_description = ''.join([ch for ch in twitter_description if ch not in punctuation])\n",
    "\n",
    "        # Split on whitespace and fold to lowercase\n",
    "        tokens_twitter = twitter_description.lower().split()\n",
    "\n",
    "        # Remove stopwords\n",
    "        tokens_twitter = [token for token in tokens_twitter if token not in sw]\n",
    "\n",
    "        clean_twitter_descriptions.append(tokens_twitter)\n",
    "\n",
    "    clean_twitter[artist_name] = clean_twitter_descriptions"
   ]
  },
  {
   "cell_type": "code",
   "execution_count": 10,
   "id": "276c308c",
   "metadata": {},
   "outputs": [
    {
     "name": "stdout",
     "output_type": "stream",
     "text": [
      "robyn tweet\n"
     ]
    },
    {
     "data": {
      "text/html": [
       "<div>\n",
       "<style scoped>\n",
       "    .dataframe tbody tr th:only-of-type {\n",
       "        vertical-align: middle;\n",
       "    }\n",
       "\n",
       "    .dataframe tbody tr th {\n",
       "        vertical-align: top;\n",
       "    }\n",
       "\n",
       "    .dataframe thead th {\n",
       "        text-align: right;\n",
       "    }\n",
       "</style>\n",
       "<table border=\"1\" class=\"dataframe\">\n",
       "  <thead>\n",
       "    <tr style=\"text-align: right;\">\n",
       "      <th></th>\n",
       "      <th>tweet</th>\n",
       "    </tr>\n",
       "  </thead>\n",
       "  <tbody>\n",
       "    <tr>\n",
       "      <th>0</th>\n",
       "      <td>\"I love chill\" •Facebook / Instagram / SoundCl...</td>\n",
       "    </tr>\n",
       "    <tr>\n",
       "      <th>1</th>\n",
       "      <td>books, movies, music, nature &amp; TV shows. OG Sw...</td>\n",
       "    </tr>\n",
       "    <tr>\n",
       "      <th>2</th>\n",
       "      <td>(Am)auteur en herbe 🌱 - juriste en paille 🤡 - ...</td>\n",
       "    </tr>\n",
       "    <tr>\n",
       "      <th>3</th>\n",
       "      <td>This Twitter profile is full of sarcasm and ra...</td>\n",
       "    </tr>\n",
       "    <tr>\n",
       "      <th>4</th>\n",
       "      <td>Flora Youssef - Blogger &amp; Founder Posting revi...</td>\n",
       "    </tr>\n",
       "  </tbody>\n",
       "</table>\n",
       "</div>"
      ],
      "text/plain": [
       "                                               tweet\n",
       "0  \"I love chill\" •Facebook / Instagram / SoundCl...\n",
       "1  books, movies, music, nature & TV shows. OG Sw...\n",
       "2  (Am)auteur en herbe 🌱 - juriste en paille 🤡 - ...\n",
       "3  This Twitter profile is full of sarcasm and ra...\n",
       "4  Flora Youssef - Blogger & Founder Posting revi..."
      ]
     },
     "metadata": {},
     "output_type": "display_data"
    },
    {
     "name": "stdout",
     "output_type": "stream",
     "text": [
      "cher tweet\n"
     ]
    },
    {
     "data": {
      "text/html": [
       "<div>\n",
       "<style scoped>\n",
       "    .dataframe tbody tr th:only-of-type {\n",
       "        vertical-align: middle;\n",
       "    }\n",
       "\n",
       "    .dataframe tbody tr th {\n",
       "        vertical-align: top;\n",
       "    }\n",
       "\n",
       "    .dataframe thead th {\n",
       "        text-align: right;\n",
       "    }\n",
       "</style>\n",
       "<table border=\"1\" class=\"dataframe\">\n",
       "  <thead>\n",
       "    <tr style=\"text-align: right;\">\n",
       "      <th></th>\n",
       "      <th>tweet</th>\n",
       "    </tr>\n",
       "  </thead>\n",
       "  <tbody>\n",
       "    <tr>\n",
       "      <th>0</th>\n",
       "      <td>𝙿𝚛𝚘𝚞𝚍 𝚜𝚞𝚙𝚙𝚘𝚛𝚝𝚎𝚛 𝚘𝚏 𝚖𝚎𝚜𝚜𝚢 𝚋𝚞𝚗𝚜 &amp; 𝚕𝚎𝚐𝚐𝚒𝚗𝚐𝚜</td>\n",
       "    </tr>\n",
       "    <tr>\n",
       "      <th>1</th>\n",
       "      <td>163㎝／愛かっぷ💜26歳🍒 工〇好きな女の子💓 フォローしてくれたらDMします🧡</td>\n",
       "    </tr>\n",
       "    <tr>\n",
       "      <th>2</th>\n",
       "      <td>csu</td>\n",
       "    </tr>\n",
       "    <tr>\n",
       "      <th>3</th>\n",
       "      <td>Writer @Washinformer @SpelmanCollege alumna #D...</td>\n",
       "    </tr>\n",
       "    <tr>\n",
       "      <th>4</th>\n",
       "      <td>I’m unemployed and live with my parents. MOOPS!</td>\n",
       "    </tr>\n",
       "  </tbody>\n",
       "</table>\n",
       "</div>"
      ],
      "text/plain": [
       "                                               tweet\n",
       "0           𝙿𝚛𝚘𝚞𝚍 𝚜𝚞𝚙𝚙𝚘𝚛𝚝𝚎𝚛 𝚘𝚏 𝚖𝚎𝚜𝚜𝚢 𝚋𝚞𝚗𝚜 & 𝚕𝚎𝚐𝚐𝚒𝚗𝚐𝚜\n",
       "1          163㎝／愛かっぷ💜26歳🍒 工〇好きな女の子💓 フォローしてくれたらDMします🧡\n",
       "2                                                csu\n",
       "3  Writer @Washinformer @SpelmanCollege alumna #D...\n",
       "4    I’m unemployed and live with my parents. MOOPS!"
      ]
     },
     "metadata": {},
     "output_type": "display_data"
    }
   ],
   "source": [
    "#convert to dataframe, and name the original tweet as tweet\n",
    "\n",
    "print(\"robyn tweet\")\n",
    "\n",
    "robyn_tweet = pd.DataFrame(twitter_data['robynkonichiwa'])\n",
    "robyn_tweet.columns = ['tweet']\n",
    "display(robyn_tweet.head())\n",
    "\n",
    "print(\"cher tweet\")\n",
    "\n",
    "cher_tweet = pd.DataFrame(twitter_data['cher'])\n",
    "cher_tweet.columns = ['tweet']\n",
    "display(cher_tweet.head())"
   ]
  },
  {
   "cell_type": "code",
   "execution_count": 11,
   "id": "99e8ae71",
   "metadata": {},
   "outputs": [],
   "source": [
    "def remove_stop(tokens):\n",
    "    return [t for t in tokens if t.lower() not in stopwords]\n",
    "\n",
    "def tokenize(text):\n",
    "    # Remove punctuation characters, split on whitespace, and fold to lowercase\n",
    "    tokens = re.findall(r'\\b\\w+\\b', text.lower())\n",
    "    return tokens\n",
    "\n",
    "def prepare_text(row):\n",
    "    original_text = row['tweet']\n",
    "    \n",
    "    # Apply the pipeline to the 'tweet' column\n",
    "    tokens = original_text\n",
    "    for transform in pipeline:\n",
    "        tokens = transform(tokens)\n",
    "    \n",
    "    return pd.Series({'tweet': original_text, 'tokens': tokens})\n",
    "\n",
    "pipeline = [tokenize, remove_stop]"
   ]
  },
  {
   "cell_type": "code",
   "execution_count": 12,
   "id": "f655960c",
   "metadata": {},
   "outputs": [
    {
     "name": "stdout",
     "output_type": "stream",
     "text": [
      "robyn tweet\n"
     ]
    },
    {
     "data": {
      "text/html": [
       "<div>\n",
       "<style scoped>\n",
       "    .dataframe tbody tr th:only-of-type {\n",
       "        vertical-align: middle;\n",
       "    }\n",
       "\n",
       "    .dataframe tbody tr th {\n",
       "        vertical-align: top;\n",
       "    }\n",
       "\n",
       "    .dataframe thead th {\n",
       "        text-align: right;\n",
       "    }\n",
       "</style>\n",
       "<table border=\"1\" class=\"dataframe\">\n",
       "  <thead>\n",
       "    <tr style=\"text-align: right;\">\n",
       "      <th></th>\n",
       "      <th>tweet</th>\n",
       "      <th>tokens</th>\n",
       "    </tr>\n",
       "  </thead>\n",
       "  <tbody>\n",
       "    <tr>\n",
       "      <th>0</th>\n",
       "      <td>\"I love chill\" •Facebook / Instagram / SoundCl...</td>\n",
       "      <td>[love, chill, facebook, instagram, soundcloud,...</td>\n",
       "    </tr>\n",
       "    <tr>\n",
       "      <th>1</th>\n",
       "      <td>books, movies, music, nature &amp; TV shows. OG Sw...</td>\n",
       "      <td>[books, movies, music, nature, tv, shows, og, ...</td>\n",
       "    </tr>\n",
       "    <tr>\n",
       "      <th>2</th>\n",
       "      <td>(Am)auteur en herbe 🌱 - juriste en paille 🤡 - ...</td>\n",
       "      <td>[auteur, en, herbe, juriste, en, paille, ami, ...</td>\n",
       "    </tr>\n",
       "    <tr>\n",
       "      <th>3</th>\n",
       "      <td>This Twitter profile is full of sarcasm and ra...</td>\n",
       "      <td>[twitter, profile, full, sarcasm, rants, occas...</td>\n",
       "    </tr>\n",
       "    <tr>\n",
       "      <th>4</th>\n",
       "      <td>Flora Youssef - Blogger &amp; Founder Posting revi...</td>\n",
       "      <td>[flora, youssef, blogger, founder, posting, re...</td>\n",
       "    </tr>\n",
       "  </tbody>\n",
       "</table>\n",
       "</div>"
      ],
      "text/plain": [
       "                                               tweet  \\\n",
       "0  \"I love chill\" •Facebook / Instagram / SoundCl...   \n",
       "1  books, movies, music, nature & TV shows. OG Sw...   \n",
       "2  (Am)auteur en herbe 🌱 - juriste en paille 🤡 - ...   \n",
       "3  This Twitter profile is full of sarcasm and ra...   \n",
       "4  Flora Youssef - Blogger & Founder Posting revi...   \n",
       "\n",
       "                                              tokens  \n",
       "0  [love, chill, facebook, instagram, soundcloud,...  \n",
       "1  [books, movies, music, nature, tv, shows, og, ...  \n",
       "2  [auteur, en, herbe, juriste, en, paille, ami, ...  \n",
       "3  [twitter, profile, full, sarcasm, rants, occas...  \n",
       "4  [flora, youssef, blogger, founder, posting, re...  "
      ]
     },
     "metadata": {},
     "output_type": "display_data"
    },
    {
     "name": "stdout",
     "output_type": "stream",
     "text": [
      "cher tweet\n"
     ]
    },
    {
     "data": {
      "text/html": [
       "<div>\n",
       "<style scoped>\n",
       "    .dataframe tbody tr th:only-of-type {\n",
       "        vertical-align: middle;\n",
       "    }\n",
       "\n",
       "    .dataframe tbody tr th {\n",
       "        vertical-align: top;\n",
       "    }\n",
       "\n",
       "    .dataframe thead th {\n",
       "        text-align: right;\n",
       "    }\n",
       "</style>\n",
       "<table border=\"1\" class=\"dataframe\">\n",
       "  <thead>\n",
       "    <tr style=\"text-align: right;\">\n",
       "      <th></th>\n",
       "      <th>tweet</th>\n",
       "      <th>tokens</th>\n",
       "    </tr>\n",
       "  </thead>\n",
       "  <tbody>\n",
       "    <tr>\n",
       "      <th>0</th>\n",
       "      <td>𝙿𝚛𝚘𝚞𝚍 𝚜𝚞𝚙𝚙𝚘𝚛𝚝𝚎𝚛 𝚘𝚏 𝚖𝚎𝚜𝚜𝚢 𝚋𝚞𝚗𝚜 &amp; 𝚕𝚎𝚐𝚐𝚒𝚗𝚐𝚜</td>\n",
       "      <td>[𝙿𝚛𝚘𝚞𝚍, 𝚜𝚞𝚙𝚙𝚘𝚛𝚝𝚎𝚛, 𝚘𝚏, 𝚖𝚎𝚜𝚜𝚢, 𝚋𝚞𝚗𝚜, 𝚕𝚎𝚐𝚐𝚒𝚗𝚐𝚜]</td>\n",
       "    </tr>\n",
       "    <tr>\n",
       "      <th>1</th>\n",
       "      <td>163㎝／愛かっぷ💜26歳🍒 工〇好きな女の子💓 フォローしてくれたらDMします🧡</td>\n",
       "      <td>[163, 愛かっぷ, 26歳, 工〇好きな女の子, フォローしてくれたらdmします]</td>\n",
       "    </tr>\n",
       "    <tr>\n",
       "      <th>2</th>\n",
       "      <td>csu</td>\n",
       "      <td>[csu]</td>\n",
       "    </tr>\n",
       "    <tr>\n",
       "      <th>3</th>\n",
       "      <td>Writer @Washinformer @SpelmanCollege alumna #D...</td>\n",
       "      <td>[writer, washinformer, spelmancollege, alumna,...</td>\n",
       "    </tr>\n",
       "    <tr>\n",
       "      <th>4</th>\n",
       "      <td>I’m unemployed and live with my parents. MOOPS!</td>\n",
       "      <td>[unemployed, live, parents, moops]</td>\n",
       "    </tr>\n",
       "  </tbody>\n",
       "</table>\n",
       "</div>"
      ],
      "text/plain": [
       "                                               tweet  \\\n",
       "0           𝙿𝚛𝚘𝚞𝚍 𝚜𝚞𝚙𝚙𝚘𝚛𝚝𝚎𝚛 𝚘𝚏 𝚖𝚎𝚜𝚜𝚢 𝚋𝚞𝚗𝚜 & 𝚕𝚎𝚐𝚐𝚒𝚗𝚐𝚜   \n",
       "1          163㎝／愛かっぷ💜26歳🍒 工〇好きな女の子💓 フォローしてくれたらDMします🧡   \n",
       "2                                                csu   \n",
       "3  Writer @Washinformer @SpelmanCollege alumna #D...   \n",
       "4    I’m unemployed and live with my parents. MOOPS!   \n",
       "\n",
       "                                              tokens  \n",
       "0      [𝙿𝚛𝚘𝚞𝚍, 𝚜𝚞𝚙𝚙𝚘𝚛𝚝𝚎𝚛, 𝚘𝚏, 𝚖𝚎𝚜𝚜𝚢, 𝚋𝚞𝚗𝚜, 𝚕𝚎𝚐𝚐𝚒𝚗𝚐𝚜]  \n",
       "1        [163, 愛かっぷ, 26歳, 工〇好きな女の子, フォローしてくれたらdmします]  \n",
       "2                                              [csu]  \n",
       "3  [writer, washinformer, spelmancollege, alumna,...  \n",
       "4                 [unemployed, live, parents, moops]  "
      ]
     },
     "metadata": {},
     "output_type": "display_data"
    }
   ],
   "source": [
    "#add the tokens column to the original dataframe\n",
    "\n",
    "print(\"robyn tweet\")\n",
    "\n",
    "robyn_tweet[['tweet', 'tokens']] = robyn_tweet.apply(prepare_text, axis=1)\n",
    "display(robyn_tweet.head())\n",
    "\n",
    "print(\"cher tweet\")\n",
    "cher_tweet[['tweet', 'tokens']] = cher_tweet.apply(prepare_text, axis=1)\n",
    "display(cher_tweet.head())"
   ]
  },
  {
   "cell_type": "code",
   "execution_count": 13,
   "id": "b2f7060d",
   "metadata": {},
   "outputs": [
    {
     "name": "stdout",
     "output_type": "stream",
     "text": [
      "robyn lyrics\n"
     ]
    },
    {
     "data": {
      "text/html": [
       "<div>\n",
       "<style scoped>\n",
       "    .dataframe tbody tr th:only-of-type {\n",
       "        vertical-align: middle;\n",
       "    }\n",
       "\n",
       "    .dataframe tbody tr th {\n",
       "        vertical-align: top;\n",
       "    }\n",
       "\n",
       "    .dataframe thead th {\n",
       "        text-align: right;\n",
       "    }\n",
       "</style>\n",
       "<table border=\"1\" class=\"dataframe\">\n",
       "  <thead>\n",
       "    <tr style=\"text-align: right;\">\n",
       "      <th></th>\n",
       "      <th>lyrics</th>\n",
       "    </tr>\n",
       "  </thead>\n",
       "  <tbody>\n",
       "    <tr>\n",
       "      <th>0</th>\n",
       "      <td>\"Include Me Out\"\\n\\n\\n\\nIt is really very simp...</td>\n",
       "    </tr>\n",
       "    <tr>\n",
       "      <th>1</th>\n",
       "      <td>\"Electric\"\\n\\n\\n\\nElectric...\\n\\nIt's electric...</td>\n",
       "    </tr>\n",
       "    <tr>\n",
       "      <th>2</th>\n",
       "      <td>\"Beach 2K20\"\\n\\n\\n\\n(So you wanna go out?\\nHow...</td>\n",
       "    </tr>\n",
       "    <tr>\n",
       "      <th>3</th>\n",
       "      <td>\"Love Kills\"\\n\\n\\n\\nIf you're looking for love...</td>\n",
       "    </tr>\n",
       "    <tr>\n",
       "      <th>4</th>\n",
       "      <td>\"Time Machine\"\\n\\n\\n\\nHey, what did I do?\\nCan...</td>\n",
       "    </tr>\n",
       "  </tbody>\n",
       "</table>\n",
       "</div>"
      ],
      "text/plain": [
       "                                              lyrics\n",
       "0  \"Include Me Out\"\\n\\n\\n\\nIt is really very simp...\n",
       "1  \"Electric\"\\n\\n\\n\\nElectric...\\n\\nIt's electric...\n",
       "2  \"Beach 2K20\"\\n\\n\\n\\n(So you wanna go out?\\nHow...\n",
       "3  \"Love Kills\"\\n\\n\\n\\nIf you're looking for love...\n",
       "4  \"Time Machine\"\\n\\n\\n\\nHey, what did I do?\\nCan..."
      ]
     },
     "metadata": {},
     "output_type": "display_data"
    },
    {
     "name": "stdout",
     "output_type": "stream",
     "text": [
      "cher lyrics\n"
     ]
    },
    {
     "data": {
      "text/html": [
       "<div>\n",
       "<style scoped>\n",
       "    .dataframe tbody tr th:only-of-type {\n",
       "        vertical-align: middle;\n",
       "    }\n",
       "\n",
       "    .dataframe tbody tr th {\n",
       "        vertical-align: top;\n",
       "    }\n",
       "\n",
       "    .dataframe thead th {\n",
       "        text-align: right;\n",
       "    }\n",
       "</style>\n",
       "<table border=\"1\" class=\"dataframe\">\n",
       "  <thead>\n",
       "    <tr style=\"text-align: right;\">\n",
       "      <th></th>\n",
       "      <th>lyrics</th>\n",
       "    </tr>\n",
       "  </thead>\n",
       "  <tbody>\n",
       "    <tr>\n",
       "      <th>0</th>\n",
       "      <td>\"Come And Stay With Me\"\\n\\n\\n\\nI'll send away ...</td>\n",
       "    </tr>\n",
       "    <tr>\n",
       "      <th>1</th>\n",
       "      <td>\"Pirate\"\\n\\n\\n\\nHe'll sail on with the summer ...</td>\n",
       "    </tr>\n",
       "    <tr>\n",
       "      <th>2</th>\n",
       "      <td>\"Stars\"\\n\\n\\n\\nI was never one for saying what...</td>\n",
       "    </tr>\n",
       "    <tr>\n",
       "      <th>3</th>\n",
       "      <td>\"These Days\"\\n\\n\\n\\nWell I've been out walking...</td>\n",
       "    </tr>\n",
       "    <tr>\n",
       "      <th>4</th>\n",
       "      <td>\"Love So High\"\\n\\n\\n\\nEvery morning I would wa...</td>\n",
       "    </tr>\n",
       "  </tbody>\n",
       "</table>\n",
       "</div>"
      ],
      "text/plain": [
       "                                              lyrics\n",
       "0  \"Come And Stay With Me\"\\n\\n\\n\\nI'll send away ...\n",
       "1  \"Pirate\"\\n\\n\\n\\nHe'll sail on with the summer ...\n",
       "2  \"Stars\"\\n\\n\\n\\nI was never one for saying what...\n",
       "3  \"These Days\"\\n\\n\\n\\nWell I've been out walking...\n",
       "4  \"Love So High\"\\n\\n\\n\\nEvery morning I would wa..."
      ]
     },
     "metadata": {},
     "output_type": "display_data"
    }
   ],
   "source": [
    "# create your clean lyrics data here\n",
    "\n",
    "print(\"robyn lyrics\")\n",
    "\n",
    "robyn_lyrics = pd.DataFrame(lyrics_data['robyn'])\n",
    "robyn_lyrics.columns = ['lyrics']\n",
    "display(robyn_lyrics.head())\n",
    "\n",
    "print(\"cher lyrics\")\n",
    "\n",
    "cher_lyrics = pd.DataFrame(lyrics_data['cher'])\n",
    "cher_lyrics.columns = ['lyrics']\n",
    "display(cher_lyrics.head())"
   ]
  },
  {
   "cell_type": "code",
   "execution_count": 14,
   "id": "47a24157",
   "metadata": {},
   "outputs": [
    {
     "name": "stdout",
     "output_type": "stream",
     "text": [
      "robyn lyrics\n"
     ]
    },
    {
     "data": {
      "text/html": [
       "<div>\n",
       "<style scoped>\n",
       "    .dataframe tbody tr th:only-of-type {\n",
       "        vertical-align: middle;\n",
       "    }\n",
       "\n",
       "    .dataframe tbody tr th {\n",
       "        vertical-align: top;\n",
       "    }\n",
       "\n",
       "    .dataframe thead th {\n",
       "        text-align: right;\n",
       "    }\n",
       "</style>\n",
       "<table border=\"1\" class=\"dataframe\">\n",
       "  <thead>\n",
       "    <tr style=\"text-align: right;\">\n",
       "      <th></th>\n",
       "      <th>lyrics</th>\n",
       "      <th>tokens</th>\n",
       "    </tr>\n",
       "  </thead>\n",
       "  <tbody>\n",
       "    <tr>\n",
       "      <th>0</th>\n",
       "      <td>\"Include Me Out\"\\n\\n\\n\\nIt is really very simp...</td>\n",
       "      <td>[include, really, simple, single, pulse, repea...</td>\n",
       "    </tr>\n",
       "    <tr>\n",
       "      <th>1</th>\n",
       "      <td>\"Electric\"\\n\\n\\n\\nElectric...\\n\\nIt's electric...</td>\n",
       "      <td>[electric, electric, electric, natural, high, ...</td>\n",
       "    </tr>\n",
       "    <tr>\n",
       "      <th>2</th>\n",
       "      <td>\"Beach 2K20\"\\n\\n\\n\\n(So you wanna go out?\\nHow...</td>\n",
       "      <td>[beach, 2k20, wanna, go, gonna, get, ok, call,...</td>\n",
       "    </tr>\n",
       "    <tr>\n",
       "      <th>3</th>\n",
       "      <td>\"Love Kills\"\\n\\n\\n\\nIf you're looking for love...</td>\n",
       "      <td>[love, kills, looking, love, get, heart, made,...</td>\n",
       "    </tr>\n",
       "    <tr>\n",
       "      <th>4</th>\n",
       "      <td>\"Time Machine\"\\n\\n\\n\\nHey, what did I do?\\nCan...</td>\n",
       "      <td>[time, machine, hey, believe, fit, threw, stup...</td>\n",
       "    </tr>\n",
       "  </tbody>\n",
       "</table>\n",
       "</div>"
      ],
      "text/plain": [
       "                                              lyrics  \\\n",
       "0  \"Include Me Out\"\\n\\n\\n\\nIt is really very simp...   \n",
       "1  \"Electric\"\\n\\n\\n\\nElectric...\\n\\nIt's electric...   \n",
       "2  \"Beach 2K20\"\\n\\n\\n\\n(So you wanna go out?\\nHow...   \n",
       "3  \"Love Kills\"\\n\\n\\n\\nIf you're looking for love...   \n",
       "4  \"Time Machine\"\\n\\n\\n\\nHey, what did I do?\\nCan...   \n",
       "\n",
       "                                              tokens  \n",
       "0  [include, really, simple, single, pulse, repea...  \n",
       "1  [electric, electric, electric, natural, high, ...  \n",
       "2  [beach, 2k20, wanna, go, gonna, get, ok, call,...  \n",
       "3  [love, kills, looking, love, get, heart, made,...  \n",
       "4  [time, machine, hey, believe, fit, threw, stup...  "
      ]
     },
     "metadata": {},
     "output_type": "display_data"
    },
    {
     "name": "stdout",
     "output_type": "stream",
     "text": [
      "cher lyrics\n"
     ]
    },
    {
     "data": {
      "text/html": [
       "<div>\n",
       "<style scoped>\n",
       "    .dataframe tbody tr th:only-of-type {\n",
       "        vertical-align: middle;\n",
       "    }\n",
       "\n",
       "    .dataframe tbody tr th {\n",
       "        vertical-align: top;\n",
       "    }\n",
       "\n",
       "    .dataframe thead th {\n",
       "        text-align: right;\n",
       "    }\n",
       "</style>\n",
       "<table border=\"1\" class=\"dataframe\">\n",
       "  <thead>\n",
       "    <tr style=\"text-align: right;\">\n",
       "      <th></th>\n",
       "      <th>lyrics</th>\n",
       "      <th>tokens</th>\n",
       "    </tr>\n",
       "  </thead>\n",
       "  <tbody>\n",
       "    <tr>\n",
       "      <th>0</th>\n",
       "      <td>\"Come And Stay With Me\"\\n\\n\\n\\nI'll send away ...</td>\n",
       "      <td>[come, stay, send, away, false, pride, forsake...</td>\n",
       "    </tr>\n",
       "    <tr>\n",
       "      <th>1</th>\n",
       "      <td>\"Pirate\"\\n\\n\\n\\nHe'll sail on with the summer ...</td>\n",
       "      <td>[pirate, sail, summer, wind, blows, day, every...</td>\n",
       "    </tr>\n",
       "    <tr>\n",
       "      <th>2</th>\n",
       "      <td>\"Stars\"\\n\\n\\n\\nI was never one for saying what...</td>\n",
       "      <td>[stars, never, one, saying, really, feel, exce...</td>\n",
       "    </tr>\n",
       "    <tr>\n",
       "      <th>3</th>\n",
       "      <td>\"These Days\"\\n\\n\\n\\nWell I've been out walking...</td>\n",
       "      <td>[days, well, walking, much, talking, days, day...</td>\n",
       "    </tr>\n",
       "    <tr>\n",
       "      <th>4</th>\n",
       "      <td>\"Love So High\"\\n\\n\\n\\nEvery morning I would wa...</td>\n",
       "      <td>[love, high, every, morning, would, wake, tie,...</td>\n",
       "    </tr>\n",
       "  </tbody>\n",
       "</table>\n",
       "</div>"
      ],
      "text/plain": [
       "                                              lyrics  \\\n",
       "0  \"Come And Stay With Me\"\\n\\n\\n\\nI'll send away ...   \n",
       "1  \"Pirate\"\\n\\n\\n\\nHe'll sail on with the summer ...   \n",
       "2  \"Stars\"\\n\\n\\n\\nI was never one for saying what...   \n",
       "3  \"These Days\"\\n\\n\\n\\nWell I've been out walking...   \n",
       "4  \"Love So High\"\\n\\n\\n\\nEvery morning I would wa...   \n",
       "\n",
       "                                              tokens  \n",
       "0  [come, stay, send, away, false, pride, forsake...  \n",
       "1  [pirate, sail, summer, wind, blows, day, every...  \n",
       "2  [stars, never, one, saying, really, feel, exce...  \n",
       "3  [days, well, walking, much, talking, days, day...  \n",
       "4  [love, high, every, morning, would, wake, tie,...  "
      ]
     },
     "metadata": {},
     "output_type": "display_data"
    }
   ],
   "source": [
    "def prepare_text2(row):\n",
    "    original_text = row['lyrics']\n",
    "    \n",
    "    # Apply the pipeline to the 'tweet' column\n",
    "    tokens = original_text\n",
    "    for transform in pipeline:\n",
    "        tokens = transform(tokens)\n",
    "    \n",
    "    return pd.Series({'lyrics': original_text, 'tokens': tokens})\n",
    "\n",
    "#add the tokens column to the original dataframe\n",
    "\n",
    "print(\"robyn lyrics\")\n",
    "\n",
    "robyn_lyrics[['lyrics', 'tokens']] = robyn_lyrics.apply(prepare_text2, axis=1)\n",
    "display(robyn_lyrics.head())\n",
    "\n",
    "print(\"cher lyrics\")\n",
    "cher_lyrics[['lyrics', 'tokens']] = cher_lyrics.apply(prepare_text2, axis=1)\n",
    "display(cher_lyrics.head())"
   ]
  },
  {
   "cell_type": "markdown",
   "id": "f2dd0179",
   "metadata": {},
   "source": [
    "## Basic Descriptive Statistics\n",
    "\n",
    "Call your `descriptive_stats` function on both your lyrics data and your twitter data and for both artists (four total calls). "
   ]
  },
  {
   "cell_type": "code",
   "execution_count": 15,
   "id": "f0bbedd9",
   "metadata": {
    "scrolled": false
   },
   "outputs": [
    {
     "name": "stdout",
     "output_type": "stream",
     "text": [
      "robyn tweets Stats\n",
      "\n",
      "There are 1526444 tokens in the data.\n",
      "There are 205132 unique tokens in the data.\n",
      "There are 8847337 characters in the data.\n",
      "The lexical diversity is 0.134 in the data.\n",
      "The five most common words are:\n",
      "[('music', 16230), ('co', 13578), ('love', 12218), ('️', 9964), ('https', 8071)]\n",
      "\n",
      "cher tweets Stats\n",
      "\n",
      "There are 15788215 tokens in the data.\n",
      "There are 960410 unique tokens in the data.\n",
      "There are 89397530 characters in the data.\n",
      "The lexical diversity is 0.061 in the data.\n",
      "The five most common words are:\n",
      "[('love', 225018), ('️', 134391), ('life', 133418), ('music', 97060), ('co', 75488)]\n",
      "\n",
      " robyn lyrics Stats\n",
      "There are 13934 tokens in the data.\n",
      "There are 2107 unique tokens in the data.\n",
      "There are 68023 characters in the data.\n",
      "The lexical diversity is 0.151 in the data.\n",
      "The five most common words are:\n",
      "[('know', 308), ('love', 276), ('got', 252), ('like', 232), ('baby', 222)]\n",
      "\n",
      "cher lyrics Stats\n",
      "There are 32980 tokens in the data.\n",
      "There are 3555 unique tokens in the data.\n",
      "There are 159843 characters in the data.\n",
      "The lexical diversity is 0.108 in the data.\n",
      "The five most common words are:\n",
      "[('love', 1023), ('know', 488), ('oh', 325), ('time', 321), ('baby', 319)]\n"
     ]
    },
    {
     "data": {
      "text/plain": [
       "[32980, 3555, 0.10779260157671317, 159843]"
      ]
     },
     "execution_count": 15,
     "metadata": {},
     "output_type": "execute_result"
    }
   ],
   "source": [
    "# calls to descriptive_stats here\n",
    "\n",
    "print(\"robyn tweets Stats\\n\")\n",
    "\n",
    "descriptive_stats(\n",
    "    [token for tokens in robyn_tweet['tokens'] for token in tokens])\n",
    "\n",
    "print(\"\\ncher tweets Stats\\n\")\n",
    "\n",
    "descriptive_stats(\n",
    "    [token for tokens in cher_tweet['tokens'] for token in tokens])\n",
    "\n",
    "print(\"\\n robyn lyrics Stats\")\n",
    "\n",
    "descriptive_stats(\n",
    "    [token for tokens in robyn_lyrics['tokens'] for token in tokens])\n",
    "\n",
    "print(\"\\ncher lyrics Stats\")\n",
    "\n",
    "descriptive_stats(\n",
    "    [token for tokens in cher_lyrics['tokens'] for token in tokens])"
   ]
  },
  {
   "cell_type": "markdown",
   "id": "46294409",
   "metadata": {},
   "source": [
    "Q: How do you think the \"top 5 words\" would be different if we left stopwords in the data? \n",
    "\n",
    "A: \n",
    "Without removing stopwords, the top 5 words might include common and non-meaningful words such as \"I,\" \"Me,\" \"you,\" \"myself,\" and \"and.\" These words, known as stopwords, are frequently used in the English language but often don't contribute significant meaning to the analysis.\n",
    "\n",
    "---\n",
    "\n",
    "Q: What were your prior beliefs about the lexical diversity between the artists? Does the difference (or lack thereof) in lexical diversity between the artists conform to your prior beliefs? \n",
    "\n",
    "A: \n",
    "Higher lexical diversity score would indicate a greater variety of unique words, reflecting a more diverse vocabulary. Surprisingly, the analysis revealed that Robyn has a higher score than Cher, which might differ from common expectations. This demonstrates the value of text analysis, leveraging data to provide more accurate and insightful results."
   ]
  },
  {
   "cell_type": "markdown",
   "id": "4d4e1ac1",
   "metadata": {},
   "source": [
    "\n",
    "## Specialty Statistics\n",
    "\n",
    "The descriptive statistics we have calculated are quite generic. You will now calculate a handful of statistics tailored to these data.\n",
    "\n",
    "1. Ten most common emojis by artist in the twitter descriptions.\n",
    "1. Ten most common hashtags by artist in the twitter descriptions.\n",
    "1. Five most common words in song titles by artist. \n",
    "1. For each artist, a histogram of song lengths (in terms of number of tokens) \n",
    "\n",
    "We can use the `emoji` library to help us identify emojis and you have been given a function to help you.\n"
   ]
  },
  {
   "cell_type": "code",
   "execution_count": 16,
   "id": "753a5a3e",
   "metadata": {},
   "outputs": [],
   "source": [
    "assert(emoji.is_emoji(\"❤️\"))\n",
    "assert(not emoji.is_emoji(\":-)\"))"
   ]
  },
  {
   "cell_type": "markdown",
   "id": "986fc4c0",
   "metadata": {},
   "source": [
    "### Emojis 😁\n",
    "\n",
    "What are the ten most common emojis by artist in the twitter descriptions? \n"
   ]
  },
  {
   "cell_type": "code",
   "execution_count": 17,
   "id": "594faf97",
   "metadata": {},
   "outputs": [
    {
     "name": "stdout",
     "output_type": "stream",
     "text": [
      "\n",
      "Artist: cher\n",
      "\n",
      "\n",
      "Ten most common emojis:\n",
      "\n",
      "❤: 79223\n",
      "🌈: 47549\n",
      "♥: 33978\n",
      "🏳: 33412\n",
      "✨: 29468\n",
      "💙: 21379\n",
      "🏻: 20930\n",
      "🌊: 20223\n",
      "✌: 16773\n",
      "💜: 16550\n",
      "\n",
      "Artist: robynkonichiwa\n",
      "\n",
      "\n",
      "Ten most common emojis:\n",
      "\n",
      "❤: 4783\n",
      "🌈: 4685\n",
      "🏳: 3528\n",
      "♥: 3103\n",
      "✨: 2223\n",
      "🏻: 1495\n",
      "✌: 1189\n",
      "🏼: 1139\n",
      "♀: 836\n",
      "💙: 809\n"
     ]
    }
   ],
   "source": [
    "# Your code here\n",
    "import emoji\n",
    "from collections import Counter\n",
    "\n",
    "def extract_emojis(text):\n",
    "    return [c for c in text if emoji.is_emoji(c)]\n",
    "\n",
    "emoji_counts = {}\n",
    "\n",
    "for artist, tweets in twitter_data.items():\n",
    "    emoji_counts[artist] = Counter()\n",
    "    \n",
    "    for tweet in tweets:\n",
    "        emojis = extract_emojis(tweet)\n",
    "        emoji_counts[artist].update(emojis)\n",
    "\n",
    "# ten most common emojis for each artist\n",
    "for artist, emojis in emoji_counts.items():\n",
    "    print(f\"\\nArtist: {artist}\\n\")\n",
    "    print(\"\\nTen most common emojis:\\n\")\n",
    "    \n",
    "    for emoji, count in emojis.most_common(10):\n",
    "        print(f\"{emoji}: {count}\")"
   ]
  },
  {
   "cell_type": "markdown",
   "id": "bab9b770",
   "metadata": {},
   "source": [
    "### Hashtags\n",
    "\n",
    "What are the ten most common hashtags by artist in the twitter descriptions? \n"
   ]
  },
  {
   "cell_type": "code",
   "execution_count": 18,
   "id": "bd001295",
   "metadata": {},
   "outputs": [
    {
     "name": "stdout",
     "output_type": "stream",
     "text": [
      "\n",
      "Artist: cher\n",
      "\n",
      "\n",
      "Ten most common hashtags:\n",
      "\n",
      "#BLM: 9535\n",
      "#Resist: 6036\n",
      "#BlackLivesMatter: 4681\n",
      "#resist: 3797\n",
      "#FBR: 3239\n",
      "#TheResistance: 2995\n",
      "#blacklivesmatter: 2645\n",
      "#1: 2627\n",
      "#Resistance: 1919\n",
      "#RESIST: 1823\n",
      "\n",
      "Artist: robynkonichiwa\n",
      "\n",
      "\n",
      "Ten most common hashtags:\n",
      "\n",
      "#BlackLivesMatter: 337\n",
      "#BLM: 306\n",
      "#blacklivesmatter: 208\n",
      "#1: 199\n",
      "#music: 174\n",
      "#Music: 113\n",
      "#EDM: 86\n",
      "#LGBTQ: 75\n",
      "#TeamFollowBack: 59\n",
      "#blm: 56\n"
     ]
    }
   ],
   "source": [
    "# Your code here\n",
    "\n",
    "import re\n",
    "from collections import Counter\n",
    "\n",
    "def extract_hashtags(text):\n",
    "    return re.findall(r\"#(\\w+)\", text)\n",
    "\n",
    "hashtag_counts = {}\n",
    "\n",
    "for artist, tweets in twitter_data.items():\n",
    "    hashtag_counts[artist] = Counter()\n",
    "\n",
    "    for tweet in tweets:\n",
    "        hashtags = extract_hashtags(tweet)\n",
    "        hashtag_counts[artist].update(hashtags)\n",
    "\n",
    "# Print the ten most common hashtags for each artist\n",
    "for artist, hashtags in hashtag_counts.items():\n",
    "    print(f\"\\nArtist: {artist}\\n\")\n",
    "    print(\"\\nTen most common hashtags:\\n\")\n",
    "\n",
    "    for hashtag, count in hashtags.most_common(10):\n",
    "        print(f\"#{hashtag}: {count}\")"
   ]
  },
  {
   "cell_type": "markdown",
   "id": "d10f21d5",
   "metadata": {},
   "source": [
    "### Song Titles\n",
    "\n",
    "What are the five most common words in song titles by artist? The song titles should be on the first line of the lyrics pages, so if you have kept the raw file contents around, you will not need to re-read the data.\n"
   ]
  },
  {
   "cell_type": "code",
   "execution_count": 19,
   "id": "df6fbba2",
   "metadata": {},
   "outputs": [
    {
     "name": "stdout",
     "output_type": "stream",
     "text": [
      "\n",
      "Artist: robyn\n",
      "\n",
      "\n",
      "Ten most common song titles :\n",
      "\n",
      "Me: 11\n",
      "You: 8\n",
      "The: 8\n",
      "My: 8\n",
      "Love: 6\n",
      "\n",
      "Artist: cher\n",
      "\n",
      "\n",
      "Ten most common song titles :\n",
      "\n",
      "The: 53\n",
      "You: 40\n",
      "Love: 38\n",
      "I: 32\n",
      "To: 28\n"
     ]
    }
   ],
   "source": [
    "import emoji\n",
    "from collections import Counter\n",
    "import re  \n",
    "\n",
    "def extract_title(text):\n",
    "    return re.findall(r'\"(.*)\"', text)[0].split()\n",
    "\n",
    "title_counts = {}\n",
    "\n",
    "for artist, lyrics in lyrics_data.items():\n",
    "    title_counts[artist] = Counter()\n",
    "    \n",
    "    for lyric in lyrics:\n",
    "        title = extract_title(lyric)\n",
    "        title_counts[artist].update(title)\n",
    "\n",
    "# ten most common song titles for each artist\n",
    "for artist, titles in title_counts.items():\n",
    "    print(f\"\\nArtist: {artist}\\n\")\n",
    "    print(\"\\nTen most common song titles :\\n\")\n",
    "    \n",
    "    for title, count in titles.most_common(5):\n",
    "        print(f\"{title}: {count}\")"
   ]
  },
  {
   "cell_type": "markdown",
   "id": "5dd4fd71",
   "metadata": {},
   "source": [
    "### Song Lengths\n",
    "\n",
    "For each artist, a histogram of song lengths (in terms of number of tokens). If you put the song lengths in a data frame with an artist column, matplotlib will make the plotting quite easy. An example is given to help you out. \n"
   ]
  },
  {
   "cell_type": "code",
   "execution_count": 20,
   "id": "805a1e52",
   "metadata": {},
   "outputs": [
    {
     "data": {
      "text/plain": [
       "artist\n",
       "Artist 1    AxesSubplot(0.125,0.125;0.775x0.755)\n",
       "Artist 2    AxesSubplot(0.125,0.125;0.775x0.755)\n",
       "Name: length, dtype: object"
      ]
     },
     "execution_count": 20,
     "metadata": {},
     "output_type": "execute_result"
    },
    {
     "data": {
      "image/png": "[encoded data removed]",
      "text/plain": [
       "<Figure size 432x288 with 1 Axes>"
      ]
     },
     "metadata": {
      "needs_background": "light"
     },
     "output_type": "display_data"
    }
   ],
   "source": [
    "num_replicates = 1000\n",
    "\n",
    "df = pd.DataFrame({\n",
    "    \"artist\" : ['Artist 1'] * num_replicates + ['Artist 2']*num_replicates,\n",
    "    \"length\" : np.concatenate((np.random.poisson(125,num_replicates),np.random.poisson(150,num_replicates)))\n",
    "})\n",
    "\n",
    "df.groupby('artist')['length'].plot(kind=\"hist\",density=True,alpha=0.5,legend=True)"
   ]
  },
  {
   "cell_type": "markdown",
   "id": "8fde9ebb",
   "metadata": {},
   "source": [
    "Since the lyrics may be stored with carriage returns or tabs, it may be useful to have a function that can collapse whitespace, using regular expressions, and be used for splitting. \n",
    "\n",
    "Q: What does the regular expression `'\\s+'` match on? \n",
    "\n",
    "A: \n",
    "It means matches one or more whitespace characters."
   ]
  },
  {
   "cell_type": "code",
   "execution_count": 21,
   "id": "f0e34516",
   "metadata": {},
   "outputs": [],
   "source": [
    "collapse_whitespace = re.compile(r'\\s+')\n",
    "\n",
    "def tokenize_lyrics(lyric) : \n",
    "    \"\"\"strip and split on whitespace\"\"\"\n",
    "    return([item.lower() for item in collapse_whitespace.split(lyric)])"
   ]
  },
  {
   "cell_type": "code",
   "execution_count": 22,
   "id": "2294c440",
   "metadata": {},
   "outputs": [
    {
     "data": {
      "image/png": "[encoded data removed]",
      "text/plain": [
       "<Figure size 432x288 with 1 Axes>"
      ]
     },
     "metadata": {
      "needs_background": "light"
     },
     "output_type": "display_data"
    }
   ],
   "source": [
    "# Your lyric length comparison chart here. \n",
    "\n",
    "import matplotlib.pyplot as plt\n",
    "\n",
    "# Dictionary to store the average lyric lengths for each artist\n",
    "average_lengths = {}\n",
    "\n",
    "# Calculate the average lyric length for each artist\n",
    "for artist, lyrics_list in lyrics_data.items():\n",
    "    total_length = 0\n",
    "    num_lyrics = len(lyrics_list)\n",
    "    for lyrics in lyrics_list:\n",
    "        total_length += len(lyrics)\n",
    "    average_length = total_length / num_lyrics\n",
    "    average_lengths[artist] = average_length\n",
    "\n",
    "# Convert the dictionary to lists for plotting\n",
    "artists = list(average_lengths.keys())\n",
    "lengths = list(average_lengths.values())\n",
    "\n",
    "# Plot the bar chart\n",
    "plt.bar(artists, lengths)\n",
    "plt.xlabel('Artist')\n",
    "plt.ylabel('Average Lyric Length')\n",
    "plt.title('Lyric Length Comparison')\n",
    "plt.xticks(rotation=45)  # Specify the rotation angle for better readability\n",
    "plt.show()\n"
   ]
  },
  {
   "cell_type": "code",
   "execution_count": null,
   "id": "4e141523",
   "metadata": {},
   "outputs": [],
   "source": []
  }
 ],
 "metadata": {
  "kernelspec": {
   "display_name": "Python 3 (ipykernel)",
   "language": "python",
   "name": "python3"
  },
  "language_info": {
   "codemirror_mode": {
    "name": "ipython",
    "version": 3
   },
   "file_extension": ".py",
   "mimetype": "text/x-python",
   "name": "python",
   "nbconvert_exporter": "python",
   "pygments_lexer": "ipython3",
   "version": "3.9.12"
  }
 },
 "nbformat": 4,
 "nbformat_minor": 5
}
